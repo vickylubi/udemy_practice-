{
 "cells": [
  {
   "cell_type": "code",
   "execution_count": 1,
   "id": "43f937db-dd02-4fee-96b0-0574641c2244",
   "metadata": {},
   "outputs": [
    {
     "name": "stdout",
     "output_type": "stream",
     "text": [
      "not hungry\n"
     ]
    }
   ],
   "source": [
    "hungry = False \n",
    "if hungry:\n",
    "    print ('feed me')\n",
    "else: \n",
    "    print ('not hungry')"
   ]
  },
  {
   "cell_type": "code",
   "execution_count": 2,
   "id": "890304c6-5ef9-4acf-8129-de9492808be8",
   "metadata": {},
   "outputs": [
    {
     "name": "stdout",
     "output_type": "stream",
     "text": [
      "Money are cool\n"
     ]
    }
   ],
   "source": [
    "loc = 'Bank'\n",
    "\n",
    "if loc == 'Auto shop':\n",
    "    print ('Cars are cool!')\n",
    "elif loc == 'Bank': \n",
    "    print ('Money are cool')\n",
    "else: \n",
    "    print ('Where am i')"
   ]
  },
  {
   "cell_type": "code",
   "execution_count": 20,
   "id": "0e025bdc-1bc2-47a0-9e69-d63e78d91b9d",
   "metadata": {},
   "outputs": [
    {
     "name": "stdout",
     "output_type": "stream",
     "text": [
      "1\n",
      "3\n",
      "4\n",
      "5\n",
      "6\n",
      "7\n",
      "8\n",
      "9\n",
      "10\n"
     ]
    }
   ],
   "source": [
    "my_list = [1,2,3,4,5,6,7,8,9,10]\n",
    "for num in my_list: \n",
    "    if num == 2:\n",
    "        continue\n",
    "    print (num)"
   ]
  },
  {
   "cell_type": "code",
   "execution_count": 4,
   "id": "b82d4635-9d1e-434e-975a-51c02fd54f3b",
   "metadata": {},
   "outputs": [
    {
     "name": "stdout",
     "output_type": "stream",
     "text": [
      "odd number 1 \n",
      "2 even number\n",
      "odd number 3 \n",
      "4 even number\n",
      "odd number 5 \n",
      "6 even number\n",
      "odd number 7 \n",
      "8 even number\n",
      "odd number 9 \n",
      "10 even number\n"
     ]
    }
   ],
   "source": [
    "for num in my_list: \n",
    "    if num % 2 == 0: \n",
    "        print(f'{num} even number')\n",
    "    else:\n",
    "        print(f'odd number {num} ')"
   ]
  },
  {
   "cell_type": "code",
   "execution_count": 5,
   "id": "da3b2c6b-26e1-4601-ad05-c5784eadd73f",
   "metadata": {},
   "outputs": [
    {
     "name": "stdout",
     "output_type": "stream",
     "text": [
      "1\n",
      "3\n",
      "6\n",
      "10\n",
      "15\n",
      "21\n",
      "28\n",
      "36\n",
      "45\n",
      "55\n"
     ]
    }
   ],
   "source": [
    "list_sum = 0 \n",
    "\n",
    "for num in my_list:\n",
    "    list_sum = list_sum + num\n",
    "    print (list_sum)"
   ]
  },
  {
   "cell_type": "code",
   "execution_count": 6,
   "id": "49afc3ad-1c33-4e5e-b851-7912efe6378f",
   "metadata": {},
   "outputs": [
    {
     "name": "stdout",
     "output_type": "stream",
     "text": [
      "1\n",
      "2\n",
      "3\n"
     ]
    }
   ],
   "source": [
    "d ={'k1':1, 'k2':2, 'k3':3}\n",
    "\n",
    "for value in d.values():\n",
    "    print (value)"
   ]
  },
  {
   "cell_type": "code",
   "execution_count": 18,
   "id": "3beb2717-d60a-4a14-967b-5c1d9116cd77",
   "metadata": {},
   "outputs": [
    {
     "name": "stdout",
     "output_type": "stream",
     "text": [
      "x now is 0\n",
      "x now is 1\n",
      "x now is 2\n",
      "x now is 3\n",
      "x now is 4\n",
      "x not less than 5\n"
     ]
    }
   ],
   "source": [
    "x = 0 \n",
    "while x < 5:\n",
    "    print (f'x now is {x}')\n",
    "    x += 1 \n",
    "else: \n",
    "    print ('x not less than 5')"
   ]
  },
  {
   "cell_type": "code",
   "execution_count": 22,
   "id": "a6fd2084-9297-4762-92bc-83da7eaa8d95",
   "metadata": {},
   "outputs": [],
   "source": [
    "mylist = [1,2,3]\n"
   ]
  },
  {
   "cell_type": "code",
   "execution_count": 30,
   "id": "e46128b5-2a21-4049-bd25-cbd9c16b0390",
   "metadata": {},
   "outputs": [
    {
     "name": "stdout",
     "output_type": "stream",
     "text": [
      "2\n",
      "4\n",
      "6\n",
      "8\n"
     ]
    }
   ],
   "source": [
    "for num in range(2,10,2):\n",
    "    print (num)"
   ]
  },
  {
   "cell_type": "code",
   "execution_count": 34,
   "id": "9d612943-26a5-4256-afe7-d3e9458ffc87",
   "metadata": {},
   "outputs": [
    {
     "name": "stdout",
     "output_type": "stream",
     "text": [
      "for index 0 the letter is a\n",
      "for index 1 the letter is b\n",
      "for index 2 the letter is c\n",
      "for index 3 the letter is d\n",
      "for index 4 the letter is e\n"
     ]
    }
   ],
   "source": [
    "index_count = 0 \n",
    "for letter in 'abcde':\n",
    "    print ('for index {} the letter is {}'.format (index_count, letter))\n",
    "    index_count += 1 "
   ]
  },
  {
   "cell_type": "code",
   "execution_count": 36,
   "id": "4e718f80-1092-41c9-9769-6381554d82ac",
   "metadata": {},
   "outputs": [
    {
     "name": "stdout",
     "output_type": "stream",
     "text": [
      "(0, 'a')\n",
      "(1, 'b')\n",
      "(2, 'c')\n",
      "(3, 'd')\n",
      "(4, 'e')\n"
     ]
    }
   ],
   "source": [
    "word = 'abcde'\n",
    "for item in enumerate (word):\n",
    "    print (item)"
   ]
  },
  {
   "cell_type": "code",
   "execution_count": 40,
   "id": "af35615f-ae45-4a5d-abee-c3742830c8cf",
   "metadata": {},
   "outputs": [],
   "source": [
    "mlist1 = [1,2,3]\n",
    "mlist2 = ['a','b','c']"
   ]
  },
  {
   "cell_type": "code",
   "execution_count": 60,
   "id": "93dc56e3-5480-4f30-8027-25f710aeec20",
   "metadata": {},
   "outputs": [
    {
     "name": "stdout",
     "output_type": "stream",
     "text": [
      "1 a\n",
      "2 b\n",
      "3 c\n"
     ]
    }
   ],
   "source": [
    "for num, item in zip (mlist1, mlist2):\n",
    "    print (num, item)\n"
   ]
  },
  {
   "cell_type": "code",
   "execution_count": 62,
   "id": "01e3ae80-e00e-4ea4-a02b-c963f020d9bc",
   "metadata": {},
   "outputs": [],
   "source": [
    "from random import shuffle"
   ]
  },
  {
   "cell_type": "code",
   "execution_count": 74,
   "id": "4dc773ef-c920-4844-a84b-19aa78dae93b",
   "metadata": {},
   "outputs": [],
   "source": [
    "my = [1,2,3,4,5,6,7]"
   ]
  },
  {
   "cell_type": "code",
   "execution_count": 76,
   "id": "2fb31c09-eae6-48a3-808c-12c38023cdb9",
   "metadata": {},
   "outputs": [],
   "source": [
    "shuffle (my)"
   ]
  },
  {
   "cell_type": "code",
   "execution_count": 78,
   "id": "52830dff-db63-4180-b646-77f50283eaf0",
   "metadata": {},
   "outputs": [
    {
     "data": {
      "text/plain": [
       "[1, 2, 7, 4, 6, 3, 5]"
      ]
     },
     "execution_count": 78,
     "metadata": {},
     "output_type": "execute_result"
    }
   ],
   "source": [
    "my"
   ]
  },
  {
   "cell_type": "code",
   "execution_count": 86,
   "id": "da576f2b-e63d-400e-b044-f86f015acbf9",
   "metadata": {},
   "outputs": [],
   "source": [
    "from random import randint\n"
   ]
  },
  {
   "cell_type": "code",
   "execution_count": 90,
   "id": "a5597719-8c84-42b7-986e-b8ffd6f151bc",
   "metadata": {},
   "outputs": [
    {
     "data": {
      "text/plain": [
       "6"
      ]
     },
     "execution_count": 90,
     "metadata": {},
     "output_type": "execute_result"
    }
   ],
   "source": [
    "randint(4,7)"
   ]
  },
  {
   "cell_type": "code",
   "execution_count": 92,
   "id": "123f866c-ffbc-476a-b617-1b59108b53e8",
   "metadata": {},
   "outputs": [
    {
     "name": "stdin",
     "output_type": "stream",
     "text": [
      "Enter something I am \n"
     ]
    },
    {
     "data": {
      "text/plain": [
       "'I am '"
      ]
     },
     "execution_count": 92,
     "metadata": {},
     "output_type": "execute_result"
    }
   ],
   "source": [
    "input ('Enter something')"
   ]
  },
  {
   "cell_type": "code",
   "execution_count": 102,
   "id": "14d7b575-dfef-4f27-b5ab-53291977e06e",
   "metadata": {},
   "outputs": [],
   "source": [
    "mystring = 'hello'\n",
    "mylist = [letter for letter in mystring]\n",
    "\n",
    "   "
   ]
  },
  {
   "cell_type": "code",
   "execution_count": 104,
   "id": "7ed96b1e-cbc6-48da-9397-3aa787072bee",
   "metadata": {},
   "outputs": [
    {
     "data": {
      "text/plain": [
       "['h', 'e', 'l', 'l', 'o']"
      ]
     },
     "execution_count": 104,
     "metadata": {},
     "output_type": "execute_result"
    }
   ],
   "source": [
    "mylist\n"
   ]
  },
  {
   "cell_type": "code",
   "execution_count": 111,
   "id": "884f966a-6237-4a3a-8ebc-e2c57aaa6c3b",
   "metadata": {},
   "outputs": [],
   "source": [
    "celc = [10, 25, 34.5]\n",
    "fer = [((9/5)*temp + 32) for temp in celc]\n"
   ]
  },
  {
   "cell_type": "code",
   "execution_count": 113,
   "id": "849042a7-360e-449f-b216-c63454eb28a7",
   "metadata": {},
   "outputs": [
    {
     "data": {
      "text/plain": [
       "[50.0, 77.0, 94.1]"
      ]
     },
     "execution_count": 113,
     "metadata": {},
     "output_type": "execute_result"
    }
   ],
   "source": [
    "fer"
   ]
  },
  {
   "cell_type": "code",
   "execution_count": null,
   "id": "775e019f-6416-4cd9-8c2b-565560f50efa",
   "metadata": {},
   "outputs": [],
   "source": []
  }
 ],
 "metadata": {
  "kernelspec": {
   "display_name": "Python 3 (ipykernel)",
   "language": "python",
   "name": "python3"
  },
  "language_info": {
   "codemirror_mode": {
    "name": "ipython",
    "version": 3
   },
   "file_extension": ".py",
   "mimetype": "text/x-python",
   "name": "python",
   "nbconvert_exporter": "python",
   "pygments_lexer": "ipython3",
   "version": "3.12.4"
  }
 },
 "nbformat": 4,
 "nbformat_minor": 5
}
